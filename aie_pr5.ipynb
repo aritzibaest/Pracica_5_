{
 "cells": [
  {
   "cell_type": "code",
   "execution_count": null,
   "metadata": {},
   "outputs": [],
   "source": []
  },
  {
   "cell_type": "markdown",
   "metadata": {},
   "source": [
    "## Descripción"
   ]
  },
  {
   "cell_type": "markdown",
   "metadata": {},
   "source": [
    "Para comprobar la utilidad de los algoritmos genéticos, vamos a intentar genera el string \"Industria 4.0\" utilizando un string aleatorio de la misma longitud.\n",
    "\n",
    "Es decir, partiremos de una población de strings aleatorios con la misma longitud (ej. \"AAAAAAAAABA.A\"), que irá evolucionando hasta que la mayoría de ellos se parezcan a \"Industria 4.0\".\n",
    "\n",
    "- Los genes disponibles son: \" abcdefghijklmnñopqrstuvwxyzABCDEFGHIJKLMNÑOPQRSTUVWXYZ1234567890,.-;:_¿?¡!\"\n",
    "\n",
    "- El tamaño de la población es 100\n",
    "\n",
    "- La reproducción será realizada por el 50% de los individuos más aptos que generarán el 90% de la nueva población.\n",
    "\n",
    "- Utiliza el método de reproducción que consideres.\n",
    "\n",
    "- Utiliza algún método de mutación.\n",
    "\n",
    "- La nueva población estará formada por el 10% más apto de la generación anterior más los nuevos descendientes."
   ]
  },
  {
   "cell_type": "markdown",
   "metadata": {},
   "source": [
    "## Instrucciones"
   ]
  },
  {
   "cell_type": "markdown",
   "metadata": {},
   "source": [
    "Podemos resumir el algoritmo en el siguiente pseudocódigo:\n",
    "\n",
    "1) Inicializar población aleatoria.\n",
    "\n",
    "2) Determinar la aptitud de la población.\n",
    "\n",
    "3) Hasta que la condición de parada sea TRUE:\n",
    "\n",
    "      a) Escoger padres.\n",
    "      \n",
    "      b) Cruzar y generar nueva población.\n",
    "      \n",
    "      c) Realizar mutación en la población\n",
    "      \n",
    "      d) Determinar la aptitud de la población.\n",
    "      \n",
    "      \n",
    "La condición de parada será que el mejor individuo tenga una aptitud del 100%"
   ]
  },
  {
   "cell_type": "markdown",
   "metadata": {},
   "source": [
    "# Práctica 5"
   ]
  },
  {
   "cell_type": "markdown",
   "metadata": {},
   "source": [
    "## Solución"
   ]
  },
  {
   "cell_type": "code",
   "execution_count": 1,
   "metadata": {},
   "outputs": [],
   "source": [
    "import random \n",
    "from random import randint\n",
    "\n",
    "KNAPSACK_ITEM_NAME_INDEX = 0\n",
    "KNAPSACK_ITEM_WEIGHT_INDEX = 1\n",
    "KNAPSACK_ITEM_VALUE_INDEX = 2\n",
    "BEST_LARGE_KNAPSACK_SCORE = 13692887\n",
    "INDIVIDUAL_CHROMOSOME_INDEX = 0\n",
    "INDIVIDUAL_FITNESS_INDEX = 1\n",
    "INDIVIDUAL_PROBABILITY_INDEX = 2\n",
    "\n",
    "gene = [\n",
    "    ['Axe', 32252, 68674],\n",
    "    ['Bronze coin', 225790, 471010],\n",
    "    ['Crown', 468164, 944620],\n",
    "    ['Diamond statue', 489494, 962094],\n",
    "    ['Emerald belt', 35384, 78344],\n",
    "    ['Fossil', 265590, 579152],\n",
    "    ['Gold coin', 497911, 902698],\n",
    "    ['Helmet', 800493, 1686515],\n",
    "    ['Ink', 823576, 1688691],\n",
    "    ['Jewel box', 552202, 1056157],\n",
    "    ['Knife', 323618, 677562],\n",
    "    ['Long sword', 382846, 833132],\n",
    "    ['Mask', 44676, 99192],\n",
    "    ['Necklace', 169738, 376418],\n",
    "    ['Opal badge', 610876, 1253986],\n",
    "    ['Pearls', 854190, 1853562],\n",
    "    ['Quiver', 671123, 1320297],\n",
    "    ['Ruby ring', 698180, 1301637],\n",
    "    ['Silver bracelet', 446517, 859835],\n",
    "    ['Timepiece', 909620, 1677534],\n",
    "    ['Uniform', 904818, 1910501],\n",
    "    ['Venom potion', 730061, 1528646],\n",
    "    ['Wool scarf', 931932, 1827477],\n",
    "    ['Cross bow', 952360, 2068204],\n",
    "    ['Yesteryear book', 926023, 1746556],\n",
    "    ['Zinc cup', 978724, 2100851, 0]\n",
    "]\n",
    "\n",
    "# Generate an initial population of random individuals\n",
    "def crear_poblacion(gene):\n",
    "    poblacion = []\n",
    "    for i in range(0, gene):\n",
    "        i = ''.join([random.choice('01') for n in range(26)])\n",
    "        poblacion.append([i, 0, 0])\n",
    "    return poblacion\n"
   ]
  },
  {
   "cell_type": "code",
   "execution_count": 2,
   "metadata": {},
   "outputs": [],
   "source": [
    "def calcular_aptitud_poblacion(poblacion, peso_maximo):\n",
    "    mejores_poblacion = 0\n",
    "    for individuo in poblacion:\n",
    "        aptitud_individuo = calculate_individual_fitness(individuo[0], peso_maximo)\n",
    "        individuo[0] = aptitud_individuo\n",
    "        if aptitud > mejores_poblacion:\n",
    "            mejores_poblacion = aptitud_individuo\n",
    "        if aptitud_individuo == -1:\n",
    "            population.remove(individuo)\n",
    "    return mejores_poblacion\n",
    "\n",
    "\n",
    "def calculate_individual_fitness(individuo, peso_maximo):\n",
    "    peso_individuo = 0\n",
    "    valor_individuo = 0\n",
    "    for i in range(len(individuo)):\n",
    "        gen = individuo[i]\n",
    "        if gen == '1':\n",
    "            peso_individuo += knapsack_items[i][1]\n",
    "            valor_individuo += knapsack_items[i][2]\n",
    "    if peso_individuo > peso_maximo:\n",
    "        return -1\n",
    "    return valor_individuo\n",
    "        \n",
    "    "
   ]
  },
  {
   "cell_type": "code",
   "execution_count": 17,
   "metadata": {},
   "outputs": [],
   "source": [
    "def calcular_aptitud(poblacion):\n",
    "    print(len(poblacion))\n",
    "    suma_poblacion = sum(individuo[1] for individuo in poblacion)\n",
    "    print(suma_poblacion)\n",
    "    for individuo in poblacion:\n",
    "        individuo[2] = individuo[1] / suma_poblacion"
   ]
  },
  {
   "cell_type": "code",
   "execution_count": 18,
   "metadata": {
    "scrolled": true
   },
   "outputs": [],
   "source": [
    "def mejores_indi(poblacion, selecciones):\n",
    "    establecer_aptitud(poblacion)\n",
    "    lista = []\n",
    "    total = 0\n",
    "    for i in range(0, len(poblacion)):\n",
    "        individuo = poblacion[i]\n",
    "        lista.append([i, total, total + individuo[2]])\n",
    "        total += individuo[2]\n",
    "    mejores = []\n",
    "    for i in range(selecciones):\n",
    "        numero = random.random()\n",
    "        resultado = [j[0] for j in lista if j[1] < numero <= j[2]]\n",
    "        mejores.append(poblacion[result[0]])\n",
    "    return mejores"
   ]
  },
  {
   "cell_type": "code",
   "execution_count": 19,
   "metadata": {},
   "outputs": [],
   "source": [
    "def recombinacion_en_dos_puntos(padre_a, padre_b, recombinacion_1, recombinacion_2):\n",
    "    hijo = [padre_a[:recombinacion_1] + padre_b[recombinacion_1:recombinacion_2] + padre_a[recombinacion_2:],\n",
    "                padre_b[:recombinacion_1] + padre_a[recombinacion_1:recombinacion_2] + padre_b[recombinacion_2:]]\n",
    "    return hijo    \n",
    "    "
   ]
  },
  {
   "cell_type": "code",
   "execution_count": 20,
   "metadata": {},
   "outputs": [],
   "source": [
    "def mutar_hijos(hijos, n_mutacion):\n",
    "    for hijo in hijos:\n",
    "        numero = random.randint(0, n_mutacion)\n",
    "        if hijo[0][numero] == '1':\n",
    "            hijo_mutado = list(child[0])\n",
    "            hijo_mutado[numero] = '0'\n",
    "            hijo[0] = hijo_mutado\n",
    "        else:\n",
    "            hijo_mutado = list(child[0])\n",
    "            hijo_mutado[numero] = '1'\n",
    "            hijo[0] = hijo_mutado\n",
    "    return hijos"
   ]
  },
  {
   "cell_type": "code",
   "execution_count": 21,
   "metadata": {},
   "outputs": [],
   "source": [
    "def reprodir_hijos(mejores):\n",
    "    hijos = []\n",
    "    for i in range(len(mejores)//2 - 1):\n",
    "        hijos = recombinacion_en_dos_puntos(mejores[i],\n",
    "                                       mejores[i + 1],\n",
    "                                       8,\n",
    "                                       14)\n",
    "    return hijos"
   ]
  },
  {
   "cell_type": "code",
   "execution_count": 22,
   "metadata": {},
   "outputs": [],
   "source": [
    "def nueva_poblacion(population, children):\n",
    "    return population + children"
   ]
  },
  {
   "cell_type": "code",
   "execution_count": 23,
   "metadata": {},
   "outputs": [
    {
     "name": "stdout",
     "output_type": "stream",
     "text": [
      "1000\n",
      "0\n"
     ]
    },
    {
     "ename": "ZeroDivisionError",
     "evalue": "division by zero",
     "output_type": "error",
     "traceback": [
      "\u001b[1;31m---------------------------------------------------------------------------\u001b[0m",
      "\u001b[1;31mZeroDivisionError\u001b[0m                         Traceback (most recent call last)",
      "\u001b[1;32m<ipython-input-23-ceb1265c6185>\u001b[0m in \u001b[0;36m<module>\u001b[1;34m\u001b[0m\n\u001b[0;32m     27\u001b[0m \u001b[1;31m# Run the genetic algorithm for a number of iterations\u001b[0m\u001b[1;33m\u001b[0m\u001b[1;33m\u001b[0m\u001b[1;33m\u001b[0m\u001b[0m\n\u001b[0;32m     28\u001b[0m \u001b[1;32mfor\u001b[0m \u001b[0mi\u001b[0m \u001b[1;32min\u001b[0m \u001b[0mrange\u001b[0m\u001b[1;33m(\u001b[0m\u001b[1;36m0\u001b[0m\u001b[1;33m,\u001b[0m \u001b[1;36m5\u001b[0m\u001b[1;33m)\u001b[0m\u001b[1;33m:\u001b[0m\u001b[1;33m\u001b[0m\u001b[1;33m\u001b[0m\u001b[0m\n\u001b[1;32m---> 29\u001b[1;33m     \u001b[0mrun_ga\u001b[0m\u001b[1;33m(\u001b[0m\u001b[1;33m)\u001b[0m\u001b[1;33m\u001b[0m\u001b[1;33m\u001b[0m\u001b[0m\n\u001b[0m",
      "\u001b[1;32m<ipython-input-23-ceb1265c6185>\u001b[0m in \u001b[0;36mrun_ga\u001b[1;34m()\u001b[0m\n\u001b[0;32m      3\u001b[0m     \u001b[0mpoblacion\u001b[0m \u001b[1;33m=\u001b[0m \u001b[0mcrear_poblacion\u001b[0m\u001b[1;33m(\u001b[0m\u001b[1;36m1000\u001b[0m\u001b[1;33m)\u001b[0m\u001b[1;33m\u001b[0m\u001b[1;33m\u001b[0m\u001b[0m\n\u001b[0;32m      4\u001b[0m     \u001b[1;32mfor\u001b[0m \u001b[0mgeneracion\u001b[0m \u001b[1;32min\u001b[0m \u001b[0mrange\u001b[0m\u001b[1;33m(\u001b[0m\u001b[1;36m1200\u001b[0m\u001b[1;33m)\u001b[0m\u001b[1;33m:\u001b[0m\u001b[1;33m\u001b[0m\u001b[1;33m\u001b[0m\u001b[0m\n\u001b[1;32m----> 5\u001b[1;33m         \u001b[0mmejor_aptitud\u001b[0m \u001b[1;33m=\u001b[0m \u001b[0mcalcular_aptitud\u001b[0m\u001b[1;33m(\u001b[0m\u001b[0mpoblacion\u001b[0m\u001b[1;33m)\u001b[0m\u001b[1;33m\u001b[0m\u001b[1;33m\u001b[0m\u001b[0m\n\u001b[0m\u001b[0;32m      6\u001b[0m         \u001b[1;32mif\u001b[0m \u001b[0mmejor_aptitud\u001b[0m \u001b[1;33m>\u001b[0m \u001b[0mmejor_aptitud_golbal\u001b[0m\u001b[1;33m:\u001b[0m\u001b[1;33m\u001b[0m\u001b[1;33m\u001b[0m\u001b[0m\n\u001b[0;32m      7\u001b[0m             \u001b[0mmejor_aptitud_golbal\u001b[0m \u001b[1;33m=\u001b[0m \u001b[0mmejor_aptitud\u001b[0m\u001b[1;33m\u001b[0m\u001b[1;33m\u001b[0m\u001b[0m\n",
      "\u001b[1;32m<ipython-input-17-c430034b6f6a>\u001b[0m in \u001b[0;36mcalcular_aptitud\u001b[1;34m(poblacion)\u001b[0m\n\u001b[0;32m      4\u001b[0m     \u001b[0mprint\u001b[0m\u001b[1;33m(\u001b[0m\u001b[0msuma_poblacion\u001b[0m\u001b[1;33m)\u001b[0m\u001b[1;33m\u001b[0m\u001b[1;33m\u001b[0m\u001b[0m\n\u001b[0;32m      5\u001b[0m     \u001b[1;32mfor\u001b[0m \u001b[0mindividuo\u001b[0m \u001b[1;32min\u001b[0m \u001b[0mpoblacion\u001b[0m\u001b[1;33m:\u001b[0m\u001b[1;33m\u001b[0m\u001b[1;33m\u001b[0m\u001b[0m\n\u001b[1;32m----> 6\u001b[1;33m         \u001b[0mindividuo\u001b[0m\u001b[1;33m[\u001b[0m\u001b[1;36m2\u001b[0m\u001b[1;33m]\u001b[0m \u001b[1;33m=\u001b[0m \u001b[0mindividuo\u001b[0m\u001b[1;33m[\u001b[0m\u001b[1;36m1\u001b[0m\u001b[1;33m]\u001b[0m \u001b[1;33m/\u001b[0m \u001b[0msuma_poblacion\u001b[0m\u001b[1;33m\u001b[0m\u001b[1;33m\u001b[0m\u001b[0m\n\u001b[0m",
      "\u001b[1;31mZeroDivisionError\u001b[0m: division by zero"
     ]
    }
   ],
   "source": [
    "def run_ga():\n",
    "    mejor_aptitud_golbal = 0\n",
    "    poblacion = crear_poblacion(1000)\n",
    "    for generacion in range(1200):\n",
    "        mejor_aptitud = calcular_aptitud(poblacion)\n",
    "        if mejor_aptitud > mejor_aptitud_golbal:\n",
    "            mejor_aptitud_golbal = mejor_aptitud\n",
    "        mejores = mejores_indi(poblacion, 100)\n",
    "        hijos = reproducir_hijos(mejores)\n",
    "        hijos = mutar_hijos(hijos, 10)\n",
    "        poblacion = nueva_poblacion(poblacion, hijos)\n",
    "        # print(global_population)\n",
    "\n",
    "    print('Best fitness: ', mejor_aptitud_golbal)\n",
    "    print('Actual best: ', BEST_LARGE_KNAPSACK_SCORE)\n",
    "    print('Accuracy: ', best_global_fitness / BEST_LARGE_KNAPSACK_SCORE * 100)\n",
    "    print('Final population size: ', len(global_population))\n",
    "\n",
    "    # calculate_population_fitness(global_population, KNAPSACK_WEIGHT_CAPACITY)\n",
    "    # the_chosen = roulette_wheel_selection(global_population, 100)\n",
    "    # the_children = reproduce_children(the_chosen)\n",
    "    # the_children = mutate_children(the_children)\n",
    "    # global_population = merge_population_and_children(global_population, the_children)\n",
    "    # global_population = roulette_wheel_selection(global_population, 100)\n",
    "\n",
    "\n",
    "# Run the genetic algorithm for a number of iterations\n",
    "for i in range(0, 5):\n",
    "    run_ga()\n"
   ]
  },
  {
   "cell_type": "code",
   "execution_count": null,
   "metadata": {},
   "outputs": [],
   "source": []
  },
  {
   "cell_type": "code",
   "execution_count": null,
   "metadata": {},
   "outputs": [],
   "source": []
  }
 ],
 "metadata": {
  "kernelspec": {
   "display_name": "Python 3",
   "language": "python",
   "name": "python3"
  },
  "language_info": {
   "codemirror_mode": {
    "name": "ipython",
    "version": 3
   },
   "file_extension": ".py",
   "mimetype": "text/x-python",
   "name": "python",
   "nbconvert_exporter": "python",
   "pygments_lexer": "ipython3",
   "version": "3.8.3"
  }
 },
 "nbformat": 4,
 "nbformat_minor": 4
}
