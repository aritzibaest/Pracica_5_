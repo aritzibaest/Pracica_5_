{
 "cells": [
  {
   "cell_type": "markdown",
   "metadata": {},
   "source": [
    "# Práctica optativa"
   ]
  },
  {
   "cell_type": "markdown",
   "metadata": {},
   "source": [
    "## Descripción"
   ]
  },
  {
   "cell_type": "markdown",
   "metadata": {},
   "source": [
    "Vamos a intentar solucionar el problema de la mochila por fuerza bruta y utilizando un algoritmo genético.\n",
    "\n",
    "\n",
    "Nuestra mochila va a tener una capacidad de **6404180** kilos. La **lista de objetos, pesos y valores** será:\n",
    "\n",
    "['Hacha', 32252, 68674],\n",
    "\n",
    "['Moneda de bronce', 225790, 471010],\n",
    "\n",
    "['Corona', 468164, 944620],\n",
    "\n",
    "['Estatua de diamante', 489494, 962094],\n",
    "\n",
    "['Cinturón de esmeralda belt', 35384, 78344],\n",
    "\n",
    "['Fósil', 265590, 579152],\n",
    "\n",
    "['Moneda de oro', 497911, 902698],\n",
    "\n",
    "['Casco', 800493, 1686515],\n",
    "\n",
    "['Tinta', 823576, 1688691],\n",
    "\n",
    "['Cofre de joyas', 552202, 1056157],\n",
    "\n",
    "['Cuchillo', 323618, 677562],\n",
    "\n",
    "['Espada', 382846, 833132],\n",
    "\n",
    "['Máscara', 44676, 99192],\n",
    "\n",
    "['Collar', 169738, 376418],\n",
    "\n",
    "['Insignia', 610876, 1253986],\n",
    "\n",
    "['Perlas', 854190, 1853562],\n",
    "\n",
    "['Carcaj', 671123, 1320297],\n",
    "\n",
    "['Anillo de rubí', 698180, 1301637],\n",
    "\n",
    "['Pulsera de plata', 446517, 859835],\n",
    "\n",
    "['Reloj', 909620, 1677534],\n",
    "\n",
    "['Uniforme', 904818, 1910501],\n",
    "\n",
    "['Veneno', 730061, 1528646],\n",
    "\n",
    "['Bufanda de lana', 931932, 1827477],\n",
    "\n",
    "['Arco', 952360, 2068204],\n",
    "\n",
    "['Libro', 926023, 1746556],\n",
    "\n",
    "['Copa de zinc', 978724, 2100851, 0]\n",
    "\n",
    "\n",
    "\n",
    "**La idea es encontrar la combinación que nos permita llevar objetos de más valor.**"
   ]
  },
  {
   "cell_type": "markdown",
   "metadata": {},
   "source": [
    "## Fuerza bruta"
   ]
  },
  {
   "cell_type": "code",
   "execution_count": 1,
   "metadata": {},
   "outputs": [],
   "source": [
    "import time\n",
    "import itertools # https://docs.python.org/3/library/itertools.html\n",
    "from itertools import product \n",
    "import random\n",
    "\n",
    "POSICION_NOMBRE_OBJETO = 0\n",
    "POSICION_PESO_OBJETO = 1\n",
    "POSICION_VALOR_OBJETO = 2\n",
    "\n",
    "objetos_mochila = [\n",
    "    ['Hacha', 32252, 68674],\n",
    "    ['Moneda de bronce', 225790, 471010],\n",
    "    ['Corona', 468164, 944620],\n",
    "    ['Estatua de diamante', 489494, 962094],\n",
    "    ['Cinturón de esmeralda belt', 35384, 78344],\n",
    "    ['Fósil', 265590, 579152],\n",
    "    ['Moneda de oro', 497911, 902698],\n",
    "    ['Casco', 800493, 1686515],\n",
    "    ['Tinta', 823576, 1688691],\n",
    "    ['Cofre de joyas', 552202, 1056157],\n",
    "    ['Cuchillo', 323618, 677562],\n",
    "    ['Espada', 382846, 833132],\n",
    "    ['Máscara', 44676, 99192],\n",
    "    ['Collar', 169738, 376418],\n",
    "    ['Insignia', 610876, 1253986],\n",
    "    ['Perlas', 854190, 1853562],\n",
    "    ['Carcaj', 671123, 1320297],\n",
    "    ['Anillo de rubí', 698180, 1301637],\n",
    "    ['Pulsera de plata', 446517, 859835],\n",
    "    ['Reloj', 909620, 1677534],\n",
    "    ['Uniforme', 904818, 1910501],\n",
    "    ['Veneno', 730061, 1528646],\n",
    "    ['Bufanda de lana', 931932, 1827477],\n",
    "    ['Arco', 952360, 2068204],\n",
    "    ['Libro', 926023, 1746556],\n",
    "    ['Copa de zinc', 978724, 2100851, 0]\n",
    "]\n",
    "\n",
    "# La mejor puntuación posible\n",
    "MEJOR_PUNTUACION = 13692887\n",
    "\n",
    "# Posiciones de las propiedades de un cromosoma\n",
    "POSICION_CROMOSOMA = 0\n",
    "POSICION_APTITUD_CROMOSOMA = 1\n",
    "POSICION_PROBABILIDAD_CROMOSOMA = 2\n",
    "\n",
    "\n"
   ]
  },
  {
   "cell_type": "markdown",
   "metadata": {},
   "source": [
    "1) Calcula la aptitud de cada solución basándote en el valor total y en si viola la restricción del peso máximo de la mochila."
   ]
  },
  {
   "cell_type": "code",
   "execution_count": 2,
   "metadata": {},
   "outputs": [],
   "source": [
    "# Calcular las aptitudes haciendo uso de una segunda función\n",
    "def calcular_aptitud(poblacion, peso_maximo):\n",
    "    mejor_aptitud = 0\n",
    "    for cromosoma in poblacion:\n",
    "        aptitud_cromosoma = calcular_aptitud_cromosoma(cromosoma[POSICION_CROMOSOMA], peso_maximo)\n",
    "        cromosoma[POSICION_APTITUD_CROMOSOMA] = aptitud_cromosoma\n",
    "        if aptitud_cromosoma > mejor_aptitud:\n",
    "            mejor_aptitud = aptitud_cromosoma\n",
    "        if aptitud_cromosoma == -1:\n",
    "            poblacion.remove(cromosoma)\n",
    "    return mejor_aptitud\n",
    "\n",
    "\n",
    "# Calcular la aptitud de un cromosoma\n",
    "def calcular_aptitud_cromosoma(cromosoma, peso_maximo):\n",
    "    peso_total_cromosoma = 0\n",
    "    valor_total_cromosoma = 0\n",
    "    for posicion_gen in range(len(cromosoma)):\n",
    "        gene_cambio = cromosoma[posicion_gen]\n",
    "        if gene_cambio == '1':\n",
    "            peso_total_cromosoma += objetos_mochila[posicion_gen][POSICION_PESO_OBJETO]\n",
    "            valor_total_cromosoma += objetos_mochila[posicion_gen][POSICION_VALOR_OBJETO]\n",
    "    if peso_total_cromosoma > peso_maximo:\n",
    "        return -1\n",
    "    return valor_total_cromosoma\n",
    "    "
   ]
  },
  {
   "cell_type": "markdown",
   "metadata": {},
   "source": [
    "2) Implementa un algoritmo de fuerza bruta, esto es:\n",
    "\n",
    "- Obtén una solución.\n",
    "- Calcula su aptitud.\n",
    "- Imprime la mejor solución al final del proceso.\n",
    "\n",
    "En lugar de calcular a priori todas las soluciones, lo que resulta computacionalmente complejo, vamos a utilizar la siguiente expresión:\n",
    "\n",
    "    for i in product([0, 1], repeat=bit_size):\n",
    "\n",
    "Que nos iterará sobre todas las posibles soluciones de acuerdo con sus valores binarios.\n",
    "    "
   ]
  },
  {
   "cell_type": "code",
   "execution_count": null,
   "metadata": {},
   "outputs": [],
   "source": []
  },
  {
   "cell_type": "markdown",
   "metadata": {},
   "source": [
    "3) Ejecuta la siguiente celda para obtener el resultado del algoritmo."
   ]
  },
  {
   "cell_type": "code",
   "execution_count": null,
   "metadata": {},
   "outputs": [],
   "source": []
  },
  {
   "cell_type": "markdown",
   "metadata": {},
   "source": [
    "## Algoritmos genéticos"
   ]
  },
  {
   "cell_type": "markdown",
   "metadata": {},
   "source": [
    "Es necesario configurar el algoritmo y seguir el ciclo de vida de los algoritmos genéticos.\n",
    "\n",
    "Parámetros:\n",
    "\n",
    "- Condición de parada = 1200 generaciones\n",
    "- Tamaño de la población = 1000\n",
    "- Selección de padres = Ruleta\n",
    "- Reproducción basada recombinación en dos puntos: 10 y 20\n",
    "- Ratio de mutación: 15\n",
    "- Selección de la población: 80% hijos y 20% más aptos de la anterior generación\n",
    "\n",
    "Ciclo de vida\n",
    "\n",
    "- Crear una población\n",
    "- Seleccionar padres basados en aptitud.\n",
    "- Reproducir individuos usando los padres seleccionados: Reproducir y mutar\n",
    "- Poblar la siguiente generación\n",
    "\n"
   ]
  },
  {
   "cell_type": "markdown",
   "metadata": {},
   "source": [
    "### Paso 1: Crear una población"
   ]
  },
  {
   "cell_type": "code",
   "execution_count": null,
   "metadata": {},
   "outputs": [],
   "source": [
    "# Inicializar poblacion con cromosomas ramdom\n",
    "def crear_poblacion_inicial(tamano_poblacion):\n",
    "    poblacion = []\n",
    "    for cromosoma in range(0, tamano_poblacion): cromosoma\n",
    "        cromosoma = ''.join([random.choice('01') for n in range(26)])\n",
    "        poblacion.append([cromosoma, 0, 0])\n",
    "    \n",
    "    return poblacion"
   ]
  },
  {
   "cell_type": "markdown",
   "metadata": {},
   "source": [
    "### Paso 2: Seleccionar padres"
   ]
  },
  {
   "cell_type": "code",
   "execution_count": null,
   "metadata": {},
   "outputs": [],
   "source": [
    "# Probabilidad de seleccion de cada cromosoma en la población\n",
    "def probabilidad_seleccion(poblacion):\n",
    "    poblacion_sum = sum(cromosoma[POSICION_APTITUD_CROMOSOMA] for cromosoma in poblacion)\n",
    "    for cromosoma in poblacion:\n",
    "        cromosoma[POSICION_PROBABILIDAD_CROMOSOMA] = cromosoma[POSICION_APTITUD_CROMOSOMA] / poblacion_sum\n",
    "\n",
    "\n",
    "# Selección de cromosomas padre mediante una 'ruleta'\n",
    "def seleccion_ruleta(poblacion, numero_selecciones):\n",
    "    probabilidad_seleccion(poblacion)\n",
    "    slices = []\n",
    "    total = 0\n",
    "    for r in range(0, len(poblacion)):\n",
    "        cromosoma = poblacion[r]\n",
    "        slices.append([r, total, total + cromosoma[POSICION_PROBABILIDAD_CROMOSOMA]])\n",
    "        total += cromosoma[POSICION_PROBABILIDAD_CROMOSOMA]\n",
    "    seleccionados = []\n",
    "    for r in range(numero_selecciones):\n",
    "        giro = random.random()\n",
    "        result = [s[0] for s in slices if s[1] < giro <= s[2]]\n",
    "        seleccionados.append(poblacion[result[0]])\n",
    "        \n",
    "    return seleccionados\n",
    "    \n"
   ]
  },
  {
   "cell_type": "markdown",
   "metadata": {},
   "source": [
    "### Paso 3: Reproducir individuos"
   ]
  },
  {
   "cell_type": "code",
   "execution_count": null,
   "metadata": {},
   "outputs": [],
   "source": [
    "# Reproducir los hijos mediante la recombinación de 2 puntos\n",
    "def recombinacion_dos_puntos(padre_a, padre_b, recombinacion_1, recombinacion_2):\n",
    "    hijos = [padre_a[:recombinacion_1] + padre_b[recombinacion_1:recombinacion_2] + padre_a[recombinacion_2:],\n",
    "                padre_b[:recombinacion_1] + padre_a[recombinacion_1:recombinacion_2] + padre_b[recombinacion_2:]]\n",
    "    return hijos\n",
    "\n",
    "\n",
    "# Mutar los hijos al azar\n",
    "def mutar_hijos(hijos, ratio_mutacion):\n",
    "    for hijo in hijos:\n",
    "        posicion_ramdom = random.randint(0, ratio_mutacion)\n",
    "        if hijo[POSICION_CROMOSOMA][posicion_ramdom] == '1':\n",
    "            hijo_mutado = list(hijo[POSICION_CROMOSOMA])\n",
    "            hijo[posicion_ramdom] = '0'\n",
    "            hijo[POSICION_CROMOSOMA] = hijo_mutado\n",
    "        else:\n",
    "            hijo_mutado = list(hijo[POSICION_CROMOSOMA])\n",
    "            hijo_mutado[posicion_ramdom] = '1'\n",
    "            hijo[POSICION_CROMOSOMA] = hijo_mutado\n",
    "            \n",
    "    return hijos\n",
    "\n",
    "\n",
    "# Reprodución de los hijos\n",
    "def reproducir_hijos(selecciones_elegidas):\n",
    "    hijos = []\n",
    "    for posicion_padre in range(len(selecciones_elegidas)//2 - 1):\n",
    "        hijos = recombinacion_dos_puntos(selecciones_elegidas[posicion_padre],\n",
    "                                       selecciones_elegidas[posicion_padre + 1],\n",
    "                                       RECOMBINACION_1,\n",
    "                                       RECOMBINACION_2)\n",
    "        \n",
    "    return hijos"
   ]
  },
  {
   "cell_type": "markdown",
   "metadata": {},
   "source": [
    "### Paso 4: Poblar la siguiente generación"
   ]
  },
  {
   "cell_type": "code",
   "execution_count": null,
   "metadata": {},
   "outputs": [],
   "source": [
    "# Combinar la población existente con los hijos recien reproducidos\n",
    "def mezclar_hijos_padres(poblacion, hijos):\n",
    "    return poblacion + hijos"
   ]
  },
  {
   "cell_type": "markdown",
   "metadata": {},
   "source": [
    "### Crea un script y ejecuta los pasos anteriores teniendo en cuenta los parámetros del algoritmo."
   ]
  },
  {
   "cell_type": "code",
   "execution_count": null,
   "metadata": {},
   "outputs": [],
   "source": [
    "CONDICION_PARADA = 1200\n",
    "TAMANO_POBLACION_INICIAL = 1000\n",
    "CAPACIDAD_MOCHILA = 6404180\n",
    "RECOMBINACION_1 = 10\n",
    "RECOMBINACION_2 = 20\n",
    "RATIO_MUTACION = 15\n",
    "NUMERO_ITERACIONES = 5\n",
    "\n",
    "\n",
    "# Ejecutar el algoritmo genético\n",
    "def ejecutar_algoritmo_genetico():\n",
    "    mejor_aptitud_global = 0\n",
    "    poblacion_global = crear_poblacion_inicial(TAMANO_POBLACION_INICIAL)\n",
    "    for generation in range(CONDICION_PARADA):\n",
    "        mejor_aptitud_actual = calcular_aptitud(poblacion_global, CAPACIDAD_MOCHILA)\n",
    "        if mejor_aptitud_actual > mejor_aptitud_global:\n",
    "            mejor_aptitud_global = mejor_aptitud_actual\n",
    "        elegidos = seleccion_ruleta(poblacion_global, 200)\n",
    "        hijos = reproducir_hijos(elegidos)\n",
    "        hijos = mutar_hijos(hijos, RATIO_MUTACION)\n",
    "        global_population = mezclar_hijos_padres(poblacion_global, hijos)\n",
    "\n",
    "    print('Precisión: ', mejor_aptitud_global / MEJOR_PUNTUACION * 100)\n",
    "    print('Mejor aptitud: ', mejor_aptitud_global)\n",
    "\n",
    "# Ejecutar el algoritmo de acuerdo con el número de iteraciones\n",
    "for i in range(0, NUMERO_ITERACIONES):\n",
    "    start_time = time.time()\n",
    "    \n",
    "    ejecutar_algoritmo_genetico()\n",
    "    \n",
    "    end_time = time.time()\n",
    "    total_time = end_time - start_time\n",
    "    print('Tiempo total: ', total_time)"
   ]
  }
 ],
 "metadata": {
  "kernelspec": {
   "display_name": "Python 3",
   "language": "python",
   "name": "python3"
  },
  "language_info": {
   "codemirror_mode": {
    "name": "ipython",
    "version": 3
   },
   "file_extension": ".py",
   "mimetype": "text/x-python",
   "name": "python",
   "nbconvert_exporter": "python",
   "pygments_lexer": "ipython3",
   "version": "3.8.3"
  }
 },
 "nbformat": 4,
 "nbformat_minor": 4
}
